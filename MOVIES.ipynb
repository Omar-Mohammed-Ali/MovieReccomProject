{
 "cells": [
  {
   "cell_type": "code",
   "execution_count": 20,
   "id": "ad40b9cb-b537-4ef4-b602-2a66b81fe010",
   "metadata": {},
   "outputs": [],
   "source": [
    "import pandas as pd\n",
    "from sklearn.feature_extraction.text import CountVectorizer\n",
    "from sklearn.metrics.pairwise import cosine_similarity\n",
    "\n",
    "# Step 1: Load dataset\n",
    "movies = pd.read_csv(\"movies.csv\")  # Make sure this file exists and is cleaned\n",
    "\n",
    "# Step 2: Preprocess genres\n",
    "movies['genres'] = movies['genres'].fillna('')  # Handle missing genres\n",
    "\n",
    "# Step 3: Vectorize genres\n",
    "vectorizer = CountVectorizer()\n",
    "genre_matrix = vectorizer.fit_transform(movies['genres'])\n",
    "\n",
    "\n",
    "# Step 4: Recommendation function (optimized)\n",
    "def content_based_recommendation(title):\n",
    "    try:\n",
    "        index = movies[movies['title'] == title].index[0]\n",
    "    except IndexError:\n",
    "        return [\"Movie not found.\"]\n",
    "\n",
    "    movie_vector = genre_matrix[index]\n",
    "    sim_scores = cosine_similarity(movie_vector, genre_matrix).flatten()\n",
    "    top_indices = sim_scores.argsort()[-6:-1][::-1]\n",
    "    return movies.iloc[top_indices]['title'].tolist()\n",
    "\n"
   ]
  },
  {
   "cell_type": "code",
   "execution_count": 22,
   "id": "433aa232-cc7f-4f84-b00c-bc18e954ab76",
   "metadata": {},
   "outputs": [
    {
     "name": "stdout",
     "output_type": "stream",
     "text": [
      "* Running on local URL:  http://127.0.0.1:7861\n",
      "* To create a public link, set `share=True` in `launch()`.\n"
     ]
    },
    {
     "data": {
      "text/html": [
       "<div><iframe src=\"http://127.0.0.1:7861/\" width=\"100%\" height=\"500\" allow=\"autoplay; camera; microphone; clipboard-read; clipboard-write;\" frameborder=\"0\" allowfullscreen></iframe></div>"
      ],
      "text/plain": [
       "<IPython.core.display.HTML object>"
      ]
     },
     "metadata": {},
     "output_type": "display_data"
    },
    {
     "data": {
      "text/plain": []
     },
     "execution_count": 22,
     "metadata": {},
     "output_type": "execute_result"
    }
   ],
   "source": [
    "import gradio as gr\n",
    "\n",
    "def recommend(title):\n",
    "    recommendations = content_based_recommendation(title)\n",
    "    styled_recommendations = \"\"\n",
    "    for i, rec in enumerate(recommendations, 1):\n",
    "        styled_recommendations += f\"🎬 **{i}. {rec}**\\n\\n\"\n",
    "    return styled_recommendations if styled_recommendations else \"No recommendations found.\"\n",
    "\n",
    "with gr.Blocks(title=\"Movie Recommendation System\") as demo:\n",
    "    gr.Markdown(\"\"\"\n",
    "        # 🎥 Movie Recommender\n",
    "        _Find your next favorite movie based on genres you love!_\n",
    "\n",
    "        💡 **Select a movie below to get 5 similar recommendations.**\n",
    "    \"\"\")\n",
    "\n",
    "    with gr.Row():\n",
    "        movie_input = gr.Dropdown(choices=movies['title'].tolist(), label=\"🎞️ Select a Movie\", interactive=True)\n",
    "\n",
    "    with gr.Row():\n",
    "        output_box = gr.Markdown(label=\"📝 Recommendations\")\n",
    "\n",
    "    recommend_button = gr.Button(\"🔍 Recommend\")\n",
    "\n",
    "    recommend_button.click(fn=recommend, inputs=movie_input, outputs=output_box)\n",
    "\n",
    "    gr.Markdown(\"\"\"\n",
    "        ---\n",
    "        👨‍💻 Built with Python & Gradio • [GitHub](https://github.com/your-repo)\n",
    "    \"\"\")\n",
    "\n",
    "demo.launch()\n"
   ]
  },
  {
   "cell_type": "code",
   "execution_count": null,
   "id": "3e734dfb-25cb-4d3a-acc0-f816e58a3700",
   "metadata": {},
   "outputs": [],
   "source": []
  }
 ],
 "metadata": {
  "kernelspec": {
   "display_name": "Python 3 (ipykernel)",
   "language": "python",
   "name": "python3"
  },
  "language_info": {
   "codemirror_mode": {
    "name": "ipython",
    "version": 3
   },
   "file_extension": ".py",
   "mimetype": "text/x-python",
   "name": "python",
   "nbconvert_exporter": "python",
   "pygments_lexer": "ipython3",
   "version": "3.12.7"
  }
 },
 "nbformat": 4,
 "nbformat_minor": 5
}
